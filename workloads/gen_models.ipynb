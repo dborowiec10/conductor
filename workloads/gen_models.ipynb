{
 "cells": [
  {
   "cell_type": "code",
   "execution_count": 11,
   "metadata": {},
   "outputs": [
    {
     "name": "stdout",
     "output_type": "stream",
     "text": [
      "env: CONDUCTOR_PATH=/home/damian/.conductor\n"
     ]
    }
   ],
   "source": [
    "%env CONDUCTOR_PATH=/home/damian/.conductor\n",
    "\n",
    "from conductor.model import ModelInputOutputSpecification\n",
    "from conductor.mediation import Tasker\n",
    "\n",
    "models_path = \"/home/damian/.conductor/models\"\n",
    "\n",
    "def gen_save_model(model_name, model_framework):\n",
    "    mspec = ModelInputOutputSpecification({\n",
    "        \"name\": \"cm_0\",\n",
    "        \"type\": \"model\",\n",
    "        \"model_name\": model_name,\n",
    "        \"model_framework\": model_framework,\n",
    "        \"batch_size\": 1\n",
    "    })\n",
    "    mod = mspec.from_spec(models_path)\n",
    "    mod._load()\n",
    "    # print(mod.get_json())\n",
    "    # mod.save()\n",
    "\n",
    "# gen_save_model(\"alexnet\", \"pytorch\")\n",
    "# gen_save_model(\"mobilenet_v1_1_00\", \"tvm\")\n",
    "# gen_save_model(\"mobilenet_v2_1_00\", \"pytorch\")\n",
    "# gen_save_model(\"resnet3d_18\", \"tvm\")\n",
    "# gen_save_model(\"resnet18_v1\", \"tvm\")\n",
    "# gen_save_model(\"squeezenet1_1\", \"tvm\")\n",
    "# gen_save_model(\"vgg16\", \"tvm\")\n",
    "# gen_save_model(\"vgg19\", \"tvm\")"
   ]
  },
  {
   "cell_type": "code",
   "execution_count": null,
   "metadata": {},
   "outputs": [],
   "source": []
  }
 ],
 "metadata": {
  "kernelspec": {
   "display_name": "conductorvenv",
   "language": "python",
   "name": "python3"
  },
  "language_info": {
   "codemirror_mode": {
    "name": "ipython",
    "version": 3
   },
   "file_extension": ".py",
   "mimetype": "text/x-python",
   "name": "python",
   "nbconvert_exporter": "python",
   "pygments_lexer": "ipython3",
   "version": "3.8.10"
  },
  "orig_nbformat": 4,
  "vscode": {
   "interpreter": {
    "hash": "a971126cb1b099d9b82dab8084152cde7c5e1aadbe61544dadf3efc3eea3a16b"
   }
  }
 },
 "nbformat": 4,
 "nbformat_minor": 2
}
