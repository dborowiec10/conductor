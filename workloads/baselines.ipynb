{
 "cells": [
  {
   "cell_type": "code",
   "execution_count": 13,
   "metadata": {},
   "outputs": [
    {
     "name": "stdout",
     "output_type": "stream",
     "text": [
      "Get devices for measurement successfully!\n",
      "([6.4232e-05], 6.4232e-05, 0.000192696, None)\n"
     ]
    },
    {
     "data": {
      "text/plain": [
       "(schedule(0x34c27e0),\n",
       " [Tensor(shape=[1, 2], op.name=placeholder), Tensor(shape=[2, 768], op.name=placeholder), Tensor(shape=[1, 768], op.name=placeholder), Tensor(shape=[1, 2], op.name=T_add)],\n",
       " 0,\n",
       " '')"
      ]
     },
     "execution_count": 13,
     "metadata": {},
     "output_type": "execute_result"
    }
   ],
   "source": [
    "from conductor.tensor_program import TensorProgramInputOutputSpecification\n",
    "from conductor.component.scheduler.sketch import SketchScheduler\n",
    "from conductor.compiler.options import TensorProgramCompilationOptions\n",
    "spec = TensorProgramInputOutputSpecification({\n",
    "    \"name\": \"sh_0\",\n",
    "    \"type\": \"tensor_program\",\n",
    "    \"identifier\": \"bert_10\"\n",
    "})\n",
    "\n",
    "tp = TensorProgramInputOutputSpecification.from_spec(spec, \"/home/user/.conductor/tensor_programs/\")\n",
    "tp._load()\n",
    "sched = SketchScheduler()\n",
    "opts = TensorProgramCompilationOptions(target=\"cuda\")\n",
    "sched.from_tensor_program_baseline(tp, options=opts)\n",
    "\n"
   ]
  },
  {
   "cell_type": "code",
   "execution_count": null,
   "metadata": {},
   "outputs": [],
   "source": []
  }
 ],
 "metadata": {
  "kernelspec": {
   "display_name": "conductorvenv",
   "language": "python",
   "name": "python3"
  },
  "language_info": {
   "codemirror_mode": {
    "name": "ipython",
    "version": 3
   },
   "file_extension": ".py",
   "mimetype": "text/x-python",
   "name": "python",
   "nbconvert_exporter": "python",
   "pygments_lexer": "ipython3",
   "version": "3.8.10"
  },
  "orig_nbformat": 4,
  "vscode": {
   "interpreter": {
    "hash": "ab30adc980ef9a2cb997cf7384baf24a3d0621e4bf1cc916262f1db9af96fd8e"
   }
  }
 },
 "nbformat": 4,
 "nbformat_minor": 2
}
