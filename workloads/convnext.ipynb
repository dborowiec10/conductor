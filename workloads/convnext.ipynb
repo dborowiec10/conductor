{
 "cells": [
  {
   "cell_type": "code",
   "execution_count": null,
   "metadata": {},
   "outputs": [],
   "source": [
    "%env CONDUCTOR_PATH=/home/damian/.conductor\n",
    "\n",
    "from conductor.model import ModelInputOutputSpecification\n",
    "from conductor.mediation import Tasker\n",
    "\n",
    "models_path = \"/home/user/.conductor/models\"\n",
    "\n",
    "def gen_bsize(bs=1):\n",
    "    mspec = ModelInputOutputSpecification({\n",
    "        \"name\": \"cm_0\",\n",
    "        \"type\": \"model\",\n",
    "        \"model_name\": \"convnext_large\",\n",
    "        \"model_framework\": \"pytorch\",\n",
    "        \"batch_size\": bs\n",
    "    })\n",
    "    mod = mspec.from_spec(models_path)\n",
    "    mod._load()\n",
    "    n = \"convnext_large\" + \"_bs\" + str(bs)\n",
    "    if bs == 1:\n",
    "        n = \"convnext_large\"\n",
    "    \n",
    "    tasks = Tasker.extract_tensor_programs(\n",
    "        mod.get_json(), \n",
    "        mod.get_params(), \n",
    "        n,\n",
    "        \"cuda\", \n",
    "        \"llvm\"\n",
    "    )\n",
    "    for t in enumerate(tasks):\n",
    "        t.save()\n",
    "\n",
    "gen_bsize(1)\n",
    "gen_bsize(2)\n",
    "gen_bsize(4)\n",
    "gen_bsize(8)\n",
    "\n",
    "        "
   ]
  },
  {
   "cell_type": "code",
   "execution_count": null,
   "metadata": {},
   "outputs": [],
   "source": []
  }
 ],
 "metadata": {
  "kernelspec": {
   "display_name": "virtualenv",
   "language": "python",
   "name": "python3"
  },
  "language_info": {
   "codemirror_mode": {
    "name": "ipython",
    "version": 3
   },
   "file_extension": ".py",
   "mimetype": "text/x-python",
   "name": "python",
   "nbconvert_exporter": "python",
   "pygments_lexer": "ipython3",
   "version": "3.8.10"
  },
  "orig_nbformat": 4,
  "vscode": {
   "interpreter": {
    "hash": "0bb3be83dc14291fff7ae8faa522db58b7079a7a556ba015b5fb76a60fcced10"
   }
  }
 },
 "nbformat": 4,
 "nbformat_minor": 2
}
